{
 "cells": [
  {
   "cell_type": "markdown",
   "metadata": {},
   "source": [
    "<center><h1>Genetic Algorithms Final Project</h1></center>\n",
    "<center><h1>A genetic algorithm for the project assignment problem</h1></center>\n",
    "<center><h1>Aalto University, 2017</h1></center>\n",
    "<center><h1>Elen Vardanyan and Lilit Janjughazyan</h1></center>"
   ]
  },
  {
   "cell_type": "code",
   "execution_count": null,
   "metadata": {
    "collapsed": true
   },
   "outputs": [],
   "source": [
    "import numpy as np\n",
    "import random"
   ]
  },
  {
   "cell_type": "markdown",
   "metadata": {},
   "source": [
    "The basic steps of the developed GA:\n",
    "<br>\n",
    "Step 1: Generate a family of initial chromosomes (solutions),\n",
    "<br>\n",
    "Step 2: Calculate the fitness of each chromosome,\n",
    "<br>\n",
    "Step 3: Select two ‘parent’ chromosomes from the family using binary tournament selection, \n",
    "<br>\n",
    "Step 4: Produce a child chromosome as an o spring from the parents using a crossover operation, \n",
    "<br>\n",
    "Step 5: Allow the child to mutate,\n",
    "<br>\n",
    "Step 6: Calculate the fitness of the child, \n",
    "<br>\n",
    "Step 7: Replace the least fit member of the family with the child providing that the child is fitter\n",
    "and is not already a member of the family,\n",
    "<br>\n",
    "Step 8: Stop if the number of predefined cycles has been reached, otherwise go to step 3."
   ]
  },
  {
   "cell_type": "code",
   "execution_count": null,
   "metadata": {
    "collapsed": false
   },
   "outputs": [],
   "source": [
    "SP_matrix           # GLOBAL, an sxp matrix of preferences\n",
    "priority_weights    # GLOBAL, an s-dimensional list"
   ]
  },
  {
   "cell_type": "markdown",
   "metadata": {},
   "source": [
    "## 1. The initial family of chromosomes"
   ]
  },
  {
   "cell_type": "code",
   "execution_count": null,
   "metadata": {
    "collapsed": true
   },
   "outputs": [],
   "source": [
    "def generate_chromosomes(SP_matrix):\n",
    "    \n",
    "    \"\"\"\n",
    "    param SP_matrix: the student-project matrix (a two-dimensional numpy array)\n",
    "    return: a list of lists, each of which is a chromosome\n",
    "    \"\"\"    \n",
    "    \n",
    "    rows = [] # students\n",
    "    cols = [] # projects\n",
    "\n",
    "    # remove assignments that can be preset\n",
    "    for p in range(SP_matrix.shape[1]):\n",
    "        if 1 in np.unique(SP_matrix[:,p]):\n",
    "            rows.append(list(SP_matrix[:, p]).index(1))\n",
    "            cols.append(p)\n",
    "    np.delete(SP_matrix, rows, 0)\n",
    "    np.delete(SP_matrix, cols, 1)\n",
    "        \n",
    "    N = SP_matrix.shape[0]\n",
    "    chromosomes = [random.sample(range(SP_matrix.shape[1]), SP_matrix.shape[0]) for chromosome in range(N)]\n",
    "    \n",
    "    return chromosomes"
   ]
  },
  {
   "cell_type": "markdown",
   "metadata": {},
   "source": [
    "## 2. The fitness function"
   ]
  },
  {
   "cell_type": "code",
   "execution_count": null,
   "metadata": {
    "collapsed": false
   },
   "outputs": [],
   "source": [
    "def fitness_function(chromosome, B=100, M=10, h=lambda x: x**2):\n",
    "    \n",
    "    \"\"\"\n",
    "    param chromosome: a list of genes/projects, i-th element of which is the project allocated to the i-th student\n",
    "    param B: a penalty, a suitably large value assigned to the C_ir_ig coefficient if a project g is outside of the student's preferences\n",
    "    param M: a penalty, a suitably large value assigned to the C_ir_ig coefficient if a project g is assigned to more than one student\n",
    "    param h: a lambda function, preferably a non-linear function on the student's preferences\n",
    "    return fitness: the fitness of the chromosome\n",
    "    \"\"\"\n",
    "    \n",
    "    c = np.zeros(len(chromosome))\n",
    "    for i in range(len(chromosome)):\n",
    "        if chromosome[i] not in SP_matrix[i, :]:\n",
    "            c[i] = B\n",
    "        for j in range(len(chromosome)):\n",
    "            if chromosome[i] == chromosome[j] & i!=j:\n",
    "                c[i] = c[j] = M\n",
    "        else:\n",
    "            c[i] = SP_matrix[i, chromosome[i]]\n",
    "                \n",
    "    fitness = sum([h(c[i])*priority_weights[i] for i in range(len(chromosome))]) \n",
    "    \n",
    "    return fitness"
   ]
  },
  {
   "cell_type": "markdown",
   "metadata": {},
   "source": [
    "## 3. Parent selection using a binary tournament"
   ]
  },
  {
   "cell_type": "code",
   "execution_count": null,
   "metadata": {
    "collapsed": true
   },
   "outputs": [],
   "source": [
    "def binary_tournament(chromosomes):\n",
    "    \n",
    "    \"\"\"\n",
    "    param chromosomes: a list of lists, each of which is a chromosome\n",
    "    return parent1, parent2: lists, the parents chosen to reproduce the child in the next step\n",
    "    \"\"\"\n",
    "    \n",
    "    parent1, parent2 = random.sample(chromosomes, 2)\n",
    "    if fitness_function(parent1) > fitness_function(parent2):\n",
    "        parent1 = parent2\n",
    "        \n",
    "    parent3, parent4 = random.sample(chromosomes, 2)\n",
    "    if fitness_function(parent3) < fitness_function(parent4):\n",
    "        parent2 = parent3\n",
    "    else:\n",
    "        parent2 = parent4\n",
    "    \n",
    "    return parent1, parent2"
   ]
  },
  {
   "cell_type": "markdown",
   "metadata": {},
   "source": [
    "## 4. Producing an offspring with a crossover operation"
   ]
  },
  {
   "cell_type": "code",
   "execution_count": null,
   "metadata": {
    "collapsed": false
   },
   "outputs": [],
   "source": [
    "def crossover(u, v):\n",
    "    \n",
    "    \"\"\"\n",
    "    param u, v: lists, parents that have to form a child\n",
    "    return c: a list, the child produced from the crossover\n",
    "    \"\"\"\n",
    "    \n",
    "    f_u = fitness_function(u)\n",
    "    f_v = fitness_function(v)\n",
    "    c = np.zeros(len(u), dtype=int)\n",
    "    if (f_u == 0) & (f_v == 0):\n",
    "        prob_u = prob_v = 0.5\n",
    "    else:\n",
    "        prob_u = f_v/(f_u+f_v)\n",
    "        prob_v = f_u/(f_u+f_v)\n",
    "        \n",
    "        \n",
    "    c[0] = np.random.choice([u[0],v[0]], p=[prob_u, prob_v])\n",
    "    \n",
    "    for i in range(1,len(u)):\n",
    "        if (u[i] not in c[:i]) & (v[i] not in c[:i]):\n",
    "            if u[i] == v[i]:\n",
    "                c[i] = u[i] = v[i]\n",
    "            else:\n",
    "                c[i] = np.random.choice([u[i],v[i]], p=[prob_u, prob_v])  \n",
    "        elif (u[i] in c[:i]) & (v[i] in c[:i]):\n",
    "            c[i] = np.random.choice(list(set(range(SP_matrix.shape[1]))-set(c[:i])))\n",
    "        elif (u[i] in c[:i]) & (v[i] not in c[:i]):\n",
    "                c[i]=v[i]\n",
    "        elif (v[i] in c[:i]) & (u[i] not in c[:i]):\n",
    "                c[i]=u[i] \n",
    "                \n",
    "    return c"
   ]
  },
  {
   "cell_type": "markdown",
   "metadata": {},
   "source": [
    "## 5. Mutation"
   ]
  },
  {
   "cell_type": "code",
   "execution_count": null,
   "metadata": {
    "collapsed": false
   },
   "outputs": [],
   "source": [
    "def mutate(chromosome, prob=None):\n",
    "    \n",
    "    \"\"\"\n",
    "    param chromosome: a list of genes/projects, i-th element of which is the project allocated to the i-th student\n",
    "    param prob: a float between (0,1), the probability of mutation, default is None (makes the probability )\n",
    "    \"\"\"\n",
    "    \n",
    "    for i in range(len(chromosome)):\n",
    "        p = random.uniform(0, 1)\n",
    "        if p < (prob == None) * 1/(SP_matrix.shape[0] * np.sqrt(len(chromosome))) + (prob != None) * prob:\n",
    "            if SP_matrix.shape[0] == SP_matrix.shape[1]: # in case when the num of students == the num of projects, do the mutation by swapping\n",
    "                chromosome[i], chromosome[len(chromosome)-i] = chromosome[len(chromosome)-i], chromosome[i] \n",
    "            else: # otherwise, choose the new gene among the projects not already in the chromosome\n",
    "                chromosome[i] = np.random.choice(list(set(range(SP_matrix.shape[1])) - set(chromosome)))"
   ]
  },
  {
   "cell_type": "markdown",
   "metadata": {},
   "source": [
    "## 6. Replacement"
   ]
  },
  {
   "cell_type": "code",
   "execution_count": null,
   "metadata": {
    "collapsed": true
   },
   "outputs": [],
   "source": [
    "def replace(child, chromosomes):\n",
    "    \n",
    "    \"\"\"\n",
    "    param child: a list, the newest child which may replace the least fit chromosome \n",
    "    param chromosomes: a list of lists, each of which is a chromosome\n",
    "    \"\"\"\n",
    "    \n",
    "    least_fit_index = 0\n",
    "    least_fitness = fitness_function(chromosomes[0])\n",
    "    for i in range(1, len(chromosomes)):\n",
    "        if least_fitness < fitness_function(chromosomes[i]):\n",
    "            least_fitness = fitness_function(chromosomes[i])\n",
    "            least_fit = chromosomes[i]\n",
    "            least_fit_index = i\n",
    "    chromosomes[least_fit_index] = child # checked if the child is already in chromosomes or not in GA(num_of_cycles)"
   ]
  },
  {
   "cell_type": "markdown",
   "metadata": {},
   "source": [
    "## The Main Algorithm "
   ]
  },
  {
   "cell_type": "code",
   "execution_count": null,
   "metadata": {
    "collapsed": false
   },
   "outputs": [],
   "source": [
    "def GA(num_of_cycles):\n",
    "    chromosomes = generate_chromosomes(SP_matrix)\n",
    "    pop_size = len(chromosomes)\n",
    "    for i in range(num_of_cycles):\n",
    "        fitnesses = []\n",
    "        for j in range(len(chromosomes)):\n",
    "            fitnesses.append(fitness_function(chromosomes[j]))\n",
    "\n",
    "        parent1, parent2 = binary_tournament(chromosomes)\n",
    "        child = crossover(parent1, parent2)\n",
    "        mutate(child, 0.01)\n",
    "        child = list(child) # to avoid problems of comparisons with lists\n",
    "        child_fitness = fitness_function(child)\n",
    "        if (child not in chromosomes) & (child_fitness < min(fitnesses)):\n",
    "            replace(child, chromosomes)\n",
    "        fitnesses = [] # update fitnesses after possible replacement\n",
    "        for j in range(len(chromosomes)):\n",
    "            fitnesses.append(fitness_function(chromosomes[j]))\n",
    "\n",
    "        print(\"Fittest in the {}-th cycle:   \\t\\t\\t\".format(i), chromosomes[fitnesses.index(min(fitnesses))], \"Fitness: \", min(fitnesses))\n",
    "        print(\"Least Fit in the {}-th cycle: \\t\\t\\t\".format(i), chromosomes[fitnesses.index(max(fitnesses))], \"Fitness: \", max(fitnesses), \"\\n\")\n",
    "    print(\"Family of chromosomes after {} cycles \\n\".format(num_of_cycles))\n",
    "    for chromosome in chromosomes:\n",
    "        print(\"{}) \".format(chromosomes.index(chromosome)+1), *chromosome, \" with fitness \", fitness_function(chromosome))"
   ]
  }
 ],
 "metadata": {
  "kernelspec": {
   "display_name": "Python 3",
   "language": "python",
   "name": "python3"
  },
  "language_info": {
   "codemirror_mode": {
    "name": "ipython",
    "version": 3
   },
   "file_extension": ".py",
   "mimetype": "text/x-python",
   "name": "python",
   "nbconvert_exporter": "python",
   "pygments_lexer": "ipython3",
   "version": "3.6.0"
  }
 },
 "nbformat": 4,
 "nbformat_minor": 2
}
